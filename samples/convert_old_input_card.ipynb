{
 "cells": [
  {
   "cell_type": "markdown",
   "metadata": {},
   "source": [
    "# Convert old input card\n",
    "\n",
    "1. meta and experiment"
   ]
  },
  {
   "cell_type": "code",
   "execution_count": 5,
   "metadata": {},
   "outputs": [],
   "source": [
    "from ruamel.yaml import YAML\n",
    "from cvm.utils import get_inp\n",
    "import sys\n",
    "\n",
    "yaml = YAML()\n",
    "yaml.indent(mapping=4, sequence=4, offset=2)\n",
    "yaml.default_flow_style = None\n",
    "yaml.width = 120"
   ]
  },
  {
   "cell_type": "code",
   "execution_count": 21,
   "metadata": {},
   "outputs": [],
   "source": [
    "inp = get_inp('<old_input_card.json>')"
   ]
  },
  {
   "cell_type": "code",
   "execution_count": 22,
   "metadata": {},
   "outputs": [],
   "source": [
    "meta = dict(host=inp['host'], impurity=inp['impurity'], prefix=inp['prefix'], description=inp['description'], structure=inp['structure'])\n",
    "experiment = dict(temperature=inp['experiment'][0]['temp'], concentration=inp['experiment'][0]['c'])\n",
    "\n",
    "tmp = {'meta': meta, 'experiment': experiment}"
   ]
  },
  {
   "cell_type": "code",
   "execution_count": 23,
   "metadata": {},
   "outputs": [
    {
     "data": {
      "text/plain": [
       "{'meta': {'host': 'Pd',\n",
       "  'impurity': 'Ru',\n",
       "  'prefix': '',\n",
       "  'description': 'PdRu solubility limit calculation with tetrahedron approximation',\n",
       "  'structure': 'A1'},\n",
       " 'experiment': {'temperature': [1800, 1600, 1400, 1200, 1000],\n",
       "  'concentration': [0.1615, 0.12, 0.078, 0.045, 0.029]}}"
      ]
     },
     "execution_count": 23,
     "metadata": {},
     "output_type": "execute_result"
    }
   ],
   "source": [
    "tmp"
   ]
  },
  {
   "cell_type": "code",
   "execution_count": 24,
   "metadata": {},
   "outputs": [],
   "source": [
    "with open('input.yml', 'w') as f:\n",
    "    yaml.dump(tmp, f)"
   ]
  },
  {
   "cell_type": "markdown",
   "metadata": {},
   "source": [
    "2. enegires"
   ]
  },
  {
   "cell_type": "code",
   "execution_count": 25,
   "metadata": {},
   "outputs": [],
   "source": [
    "def extractor(s, prefix):\n",
    "    print(s['label'])\n",
    "    print(s['transfer'])\n",
    "    print(s['temp'])\n",
    "    data = s['datas']\n",
    "    lattice = data['lattice_c']\n",
    "    host=data['host_en']\n",
    "    \n",
    "    n_ens = {}\n",
    "    for i in range(11):\n",
    "        s_i = str(i + 1)\n",
    "        l = 'pair' + s_i\n",
    "        n_ens[s_i + '_II'] = data[l][0]['energy']\n",
    "        n_ens[s_i + '_IH'] = data[l][1]['energy']\n",
    "        n_ens[s_i + '_HH'] = data[l][2]['energy']\n",
    "    \n",
    "    normalizer = dict(lattice=lattice, **n_ens)\n",
    "    clusters = dict(\n",
    "        lattice=lattice,\n",
    "        host=host,\n",
    "        Rh4=data['tetra'][0]['energy'],\n",
    "        Rh3Pd1=data['tetra'][1]['energy'],\n",
    "        Rh2Pd2=data['tetra'][2]['energy'],\n",
    "        Rh1Pd3=data['tetra'][3]['energy'],\n",
    "        Pd4=data['tetra'][4]['energy'],\n",
    "    )\n",
    "    \n",
    "    n_name = prefix + '_normalizer.csv'\n",
    "    c_name = prefix + '_clusters.csv'\n",
    "    \n",
    "    print(n_name)\n",
    "    print(c_name)\n",
    "    print()\n",
    "    \n",
    "    pd.DataFrame(normalizer).to_csv(n_name, index=False)\n",
    "    pd.DataFrame(clusters).to_csv(c_name, index=False)\n",
    "    "
   ]
  },
  {
   "cell_type": "code",
   "execution_count": 26,
   "metadata": {},
   "outputs": [
    {
     "name": "stdout",
     "output_type": "stream",
     "text": [
      "$T_\\mathrm{FD}=800$K\n",
      "[[1, 11, 2]]\n",
      "[400, 1290, 50]\n",
      "0_normalizer.csv\n",
      "0_clusters.csv\n",
      "\n",
      "$T_\\mathrm{FD}=1000$K\n",
      "[[1, 11, 2]]\n",
      "[400, 1550, 50]\n",
      "1_normalizer.csv\n",
      "1_clusters.csv\n",
      "\n",
      "$T_\\mathrm{FD}=1200$K\n",
      "[[1, 11, 2]]\n",
      "[400, 1700, 50]\n",
      "2_normalizer.csv\n",
      "2_clusters.csv\n",
      "\n",
      "$T_\\mathrm{FD}=1400$K\n",
      "[[1, 11, 2]]\n",
      "[500, 1700, 50]\n",
      "3_normalizer.csv\n",
      "3_clusters.csv\n",
      "\n",
      "$T_\\mathrm{FD}=1600$K\n",
      "[[1, 11, 2]]\n",
      "[500, 1870, 50]\n",
      "4_normalizer.csv\n",
      "4_clusters.csv\n",
      "\n"
     ]
    }
   ],
   "source": [
    "for i, s in enumerate(inp['series']):\n",
    "    extractor(s, str(i))"
   ]
  },
  {
   "cell_type": "code",
   "execution_count": null,
   "metadata": {},
   "outputs": [],
   "source": []
  }
 ],
 "metadata": {
  "kernelspec": {
   "display_name": "Python 3",
   "language": "python",
   "name": "python3"
  },
  "language_info": {
   "codemirror_mode": {
    "name": "ipython",
    "version": 3
   },
   "file_extension": ".py",
   "mimetype": "text/x-python",
   "name": "python",
   "nbconvert_exporter": "python",
   "pygments_lexer": "ipython3",
   "version": "3.7.3"
  }
 },
 "nbformat": 4,
 "nbformat_minor": 2
}
